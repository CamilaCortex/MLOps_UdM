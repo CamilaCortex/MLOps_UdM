{
 "cells": [
  {
   "cell_type": "markdown",
   "metadata": {},
   "source": [
    "## Cómo crear y usar un kernel de Jupyter a partir de un entorno virtual creado con `uv`\n",
    "\n",
    "Sigue estos pasos para que tu entorno virtual (creado con `uv`) pueda ser seleccionado y usado como kernel en Jupyter Notebook o Jupyter Lab:\n",
    "\n",
    "1. **Activa tu entorno virtual**\n",
    "   ```bash\n",
    "   source .venv/bin/activate\n",
    "\n",
    "(Reemplaza .venv por el nombre de tu entorno si es diferente)\n",
    "\n",
    "2. Instala ipykernel en el entorno\n",
    "   ```bash\n",
    "   pip install ipykernel\n",
    "\n",
    "3. Crea y registra el kernel para Jupyter\n",
    "   ```bash\n",
    "   python -m ipykernel install --user --name mlops-udm --display-name \"mlops udm\"\n",
    "   \n",
    "* Pon el nombre que deseas, en este caso usaré mlops-udm pero puedes asignar el que desees. \n",
    "\n",
    "* Puedes cambiar mlops-udm y \"mlops udm\" por el nombre que prefieras para identificar tu kernel.\n",
    "\n",
    "----> Ve al menú superior: Kernel > Cambiar kernel... y elige \"mlops udm\".\n",
    "_______"
   ]
  },
  {
   "cell_type": "markdown",
   "metadata": {},
   "source": [
    "## Escenario 1: Un cientifico de datos participando de una competición en kaggle\n",
    "\n",
    "MLflow setup:\n",
    "* Tracking server: no\n",
    "* Backend store: sistema de archivos local\n",
    "* Artifacts store: sistema de archivos local\n",
    "\n",
    "Usando MLFlow Ui podemos revisar los resultados"
   ]
  },
  {
   "cell_type": "code",
   "execution_count": 1,
   "metadata": {},
   "outputs": [],
   "source": [
    "import mlflow"
   ]
  },
  {
   "cell_type": "markdown",
   "metadata": {},
   "source": [
    "En este caso estamos usando el path actual para definir donde queremos guardar las ejecuciones"
   ]
  },
  {
   "cell_type": "code",
   "execution_count": 2,
   "metadata": {},
   "outputs": [
    {
     "name": "stdout",
     "output_type": "stream",
     "text": [
      "tracking URI: 'file:///Users/mdurango/University/MLOps/02-Experiment-Tracking/scenarios/mlruns'\n"
     ]
    }
   ],
   "source": [
    "print(f\"tracking URI: '{mlflow.get_tracking_uri()}'\")"
   ]
  },
  {
   "cell_type": "markdown",
   "metadata": {},
   "source": [
    "Define la ubicación donde se almacenarán los metadatos de los experimentos. En este caso, apunta al directorio mlruns dentro de la carpeta scenarios."
   ]
  },
  {
   "cell_type": "code",
   "execution_count": 20,
   "metadata": {},
   "outputs": [
    {
     "data": {
      "text/plain": [
       "[<Experiment: artifact_location='file:///Users/mdurango/University/MLOps/02-Experiment-Tracking/scenarios/mlruns/0', creation_time=1758644392136, experiment_id='0', last_update_time=1758644392136, lifecycle_stage='active', name='Default', tags={}>]"
      ]
     },
     "execution_count": 20,
     "metadata": {},
     "output_type": "execute_result"
    }
   ],
   "source": [
    "mlflow.search_experiments()"
   ]
  },
  {
   "cell_type": "markdown",
   "metadata": {},
   "source": [
    "### Creemos un experimento y logguemos la corrida"
   ]
  },
  {
   "cell_type": "markdown",
   "metadata": {},
   "source": [
    "Hagamos una prueba con un dataset de juguete, aca definimos siempre un experimento de mlflow de la siguiente manera:\n",
    "\n",
    "#### Definición del Experimento\n",
    "\n",
    "```python \n",
    "mlflow.set_experiment(\"my-experiment-1\")\n",
    "```\n",
    "\n",
    "Crea o selecciona un experimento llamado \"my-experiment-1\" donde se registrarán todas las ejecuciones relacionadas.\n",
    "\n",
    "#### Ejecución del Experimento\n",
    "\n",
    "```python\n",
    "with mlflow.start_run():                    \n",
    "    # Código del experimento\n",
    "```\n",
    "\n",
    "El contexto with mlflow.start_run() inicia automáticamente una nueva ejecución y la finaliza al salir del bloque.\n"
   ]
  },
  {
   "cell_type": "markdown",
   "metadata": {},
   "source": [
    "## Flujo del Experimento\n",
    "\n",
    "1. Carga de Datos\n",
    "\n",
    "- Utiliza el dataset de iris de scikit-learn como ejemplo.\n",
    "\n",
    "2. Definición de Parámetros: \n",
    "- C: Parámetro de regularización para LogisticRegression\n",
    "- random_state: Semilla para reproducibilidad\n",
    "\n",
    "- mlflow.log_params() registra estos parámetros para futura referencia\n",
    "\n",
    "3. Entrenamiento del Modelo \n",
    "\n",
    "- Entrena un modelo de regresión logística con los parámetros especificados.\n",
    "\n",
    "4. Evaluación y Logging de Métricas\n",
    "\n",
    "- Calcula predicciones en el conjunto de entrenamiento\n",
    "- Registra la métrica de precisión (accuracy) en MLflow\n",
    "\n",
    "5. Logging del Modelo\n",
    "\n",
    "- Guarda el modelo entrenado como un artifact, permitiendo su reutilización posterior."
   ]
  },
  {
   "cell_type": "code",
   "execution_count": 30,
   "metadata": {},
   "outputs": [
    {
     "name": "stderr",
     "output_type": "stream",
     "text": [
      "2025/09/23 12:08:23 WARNING mlflow.utils.environment: Failed to resolve installed pip version. ``pip`` will be added to conda.yaml environment spec without a version specifier.\n"
     ]
    },
    {
     "name": "stdout",
     "output_type": "stream",
     "text": [
      "default artifacts URI: 'file:///Users/mdurango/University/MLOps/02-Experiment-Tracking/scenarios/mlruns/771184442123308775/9f79d39d0d574f018cc738ea90157634/artifacts'\n"
     ]
    }
   ],
   "source": [
    "from sklearn.linear_model import LogisticRegression\n",
    "from sklearn.datasets import load_iris\n",
    "from sklearn.metrics import accuracy_score, f1_score, precision_score\n",
    "\n",
    "mlflow.set_experiment(\"my-experiment-1\")\n",
    "\n",
    "with mlflow.start_run(run_name=\"logistic_regression\"):\n",
    "\n",
    "    X, y = load_iris(return_X_y=True)\n",
    "\n",
    "    params = {\"C\": 0.3, \"random_state\": 42}\n",
    "    mlflow.log_params(params)\n",
    "\n",
    "    mlflow.set_tags({\"developer\": \"Maria Durango\",\n",
    "                    \"module\": \"mlops_tracking\",\n",
    "                    \"model\": \"logistic_regression\"})\n",
    "\n",
    "\n",
    "    lr = LogisticRegression(**params).fit(X, y)\n",
    "    y_pred = lr.predict(X)\n",
    "    mlflow.log_metric(\"accuracy\", accuracy_score(y, y_pred))\n",
    "\n",
    "\n",
    "    mlflow.sklearn.log_model(lr, name=\"models\", input_example=X[[0]])\n",
    "    print(f\"default artifacts URI: '{mlflow.get_artifact_uri()}'\")"
   ]
  },
  {
   "cell_type": "code",
   "execution_count": 31,
   "metadata": {},
   "outputs": [
    {
     "name": "stdout",
     "output_type": "stream",
     "text": [
      "default artifacts URI: 'file:///Users/mdurango/University/MLOps/02-Experiment-Tracking/scenarios/mlruns/771184442123308775/2a081a476a68475ea7125c1bab1becc5/artifacts'\n"
     ]
    }
   ],
   "source": [
    "# import Random Forest\n",
    "\n",
    "from sklearn.ensemble import RandomForestClassifier\n",
    "\n",
    "with mlflow.start_run(run_name=\"random_forest\"):\n",
    "    # Código del experimento\n",
    "    params = {\"n_estimators\": 100, \"random_state\": 42}\n",
    "\n",
    "    X, y = load_iris(return_X_y=True)\n",
    "\n",
    "    mlflow.log_params(params)\n",
    "\n",
    "    rf = RandomForestClassifier(**params).fit(X, y)\n",
    "    y_pred = rf.predict(X)\n",
    "    mlflow.log_metric(\"accuracy\", accuracy_score(y, y_pred))\n",
    "    mlflow.set_tags({\"developer\": \"Maria Durango\",\n",
    "                    \"module\": \"mlops_tracking\",\n",
    "                    \"model\": \"random_forest\"})\n",
    "\n",
    "\n",
    "    print(f\"default artifacts URI: '{mlflow.get_artifact_uri()}'\")\n"
   ]
  },
  {
   "cell_type": "markdown",
   "metadata": {},
   "source": [
    "## Exploración de Resultados"
   ]
  },
  {
   "cell_type": "markdown",
   "metadata": {},
   "source": [
    "### Búsqueda de Experimentos\n",
    "\n",
    "Lista todos los experimentos disponibles en el tracking server.\n"
   ]
  },
  {
   "cell_type": "code",
   "execution_count": 24,
   "metadata": {},
   "outputs": [
    {
     "data": {
      "text/plain": [
       "[<Experiment: artifact_location='file:///Users/mdurango/University/MLOps/02-Experiment-Tracking/scenarios/mlruns/771184442123308775', creation_time=1758647158704, experiment_id='771184442123308775', last_update_time=1758647158704, lifecycle_stage='active', name='my-experiment-1', tags={}>,\n",
       " <Experiment: artifact_location='file:///Users/mdurango/University/MLOps/02-Experiment-Tracking/scenarios/mlruns/0', creation_time=1758644392136, experiment_id='0', last_update_time=1758644392136, lifecycle_stage='active', name='Default', tags={}>]"
      ]
     },
     "execution_count": 24,
     "metadata": {},
     "output_type": "execute_result"
    }
   ],
   "source": [
    "mlflow.search_experiments()"
   ]
  },
  {
   "cell_type": "markdown",
   "metadata": {},
   "source": [
    "Filtrando por texto: "
   ]
  },
  {
   "cell_type": "code",
   "execution_count": 25,
   "metadata": {},
   "outputs": [
    {
     "data": {
      "text/plain": [
       "[<Experiment: artifact_location='file:///Users/mdurango/University/MLOps/02-Experiment-Tracking/scenarios/mlruns/771184442123308775', creation_time=1758647158704, experiment_id='771184442123308775', last_update_time=1758647158704, lifecycle_stage='active', name='my-experiment-1', tags={}>]"
      ]
     },
     "execution_count": 25,
     "metadata": {},
     "output_type": "execute_result"
    }
   ],
   "source": [
    "mlflow.search_experiments(filter_string=\"name = 'my-experiment-1'\")"
   ]
  },
  {
   "cell_type": "markdown",
   "metadata": {},
   "source": [
    "Filtrando por ID"
   ]
  },
  {
   "cell_type": "code",
   "execution_count": 26,
   "metadata": {},
   "outputs": [
    {
     "data": {
      "text/html": [
       "<div>\n",
       "<style scoped>\n",
       "    .dataframe tbody tr th:only-of-type {\n",
       "        vertical-align: middle;\n",
       "    }\n",
       "\n",
       "    .dataframe tbody tr th {\n",
       "        vertical-align: top;\n",
       "    }\n",
       "\n",
       "    .dataframe thead th {\n",
       "        text-align: right;\n",
       "    }\n",
       "</style>\n",
       "<table border=\"1\" class=\"dataframe\">\n",
       "  <thead>\n",
       "    <tr style=\"text-align: right;\">\n",
       "      <th></th>\n",
       "      <th>run_id</th>\n",
       "      <th>experiment_id</th>\n",
       "      <th>status</th>\n",
       "      <th>artifact_uri</th>\n",
       "      <th>start_time</th>\n",
       "      <th>end_time</th>\n",
       "      <th>metrics.accuracy</th>\n",
       "      <th>params.n_estimators</th>\n",
       "      <th>params.random_state</th>\n",
       "      <th>params.C</th>\n",
       "      <th>tags.mlflow.user</th>\n",
       "      <th>tags.mlflow.source.name</th>\n",
       "      <th>tags.mlflow.runName</th>\n",
       "      <th>tags.developer</th>\n",
       "      <th>tags.mlflow.source.type</th>\n",
       "      <th>tags.model</th>\n",
       "      <th>tags.module</th>\n",
       "    </tr>\n",
       "  </thead>\n",
       "  <tbody>\n",
       "    <tr>\n",
       "      <th>0</th>\n",
       "      <td>1b7eba94b8d740e083d8dc4a081887d9</td>\n",
       "      <td>771184442123308775</td>\n",
       "      <td>FINISHED</td>\n",
       "      <td>file:///Users/mdurango/University/MLOps/02-Exp...</td>\n",
       "      <td>2025-09-23 17:06:16.257000+00:00</td>\n",
       "      <td>2025-09-23 17:06:16.326000+00:00</td>\n",
       "      <td>1.000000</td>\n",
       "      <td>100</td>\n",
       "      <td>42</td>\n",
       "      <td>None</td>\n",
       "      <td>mdurango</td>\n",
       "      <td>/Users/mdurango/University/MLOps/.venv/lib/pyt...</td>\n",
       "      <td>unequaled-finch-200</td>\n",
       "      <td>Maria Durango</td>\n",
       "      <td>LOCAL</td>\n",
       "      <td>random_forest</td>\n",
       "      <td>mlops_tracking</td>\n",
       "    </tr>\n",
       "    <tr>\n",
       "      <th>1</th>\n",
       "      <td>ba66db332c2f479295bd5cd10bbf6b1c</td>\n",
       "      <td>771184442123308775</td>\n",
       "      <td>FAILED</td>\n",
       "      <td>file:///Users/mdurango/University/MLOps/02-Exp...</td>\n",
       "      <td>2025-09-23 17:06:02.915000+00:00</td>\n",
       "      <td>2025-09-23 17:06:03.030000+00:00</td>\n",
       "      <td>1.000000</td>\n",
       "      <td>100</td>\n",
       "      <td>42</td>\n",
       "      <td>None</td>\n",
       "      <td>mdurango</td>\n",
       "      <td>/Users/mdurango/University/MLOps/.venv/lib/pyt...</td>\n",
       "      <td>melodic-chimp-247</td>\n",
       "      <td>None</td>\n",
       "      <td>LOCAL</td>\n",
       "      <td>None</td>\n",
       "      <td>None</td>\n",
       "    </tr>\n",
       "    <tr>\n",
       "      <th>2</th>\n",
       "      <td>09b9f509957447d0afa3df6a3df7ecb7</td>\n",
       "      <td>771184442123308775</td>\n",
       "      <td>FINISHED</td>\n",
       "      <td>file:///Users/mdurango/University/MLOps/02-Exp...</td>\n",
       "      <td>2025-09-23 17:05:58.705000+00:00</td>\n",
       "      <td>2025-09-23 17:06:00.737000+00:00</td>\n",
       "      <td>0.966667</td>\n",
       "      <td>None</td>\n",
       "      <td>42</td>\n",
       "      <td>0.3</td>\n",
       "      <td>mdurango</td>\n",
       "      <td>/Users/mdurango/University/MLOps/.venv/lib/pyt...</td>\n",
       "      <td>polite-bass-209</td>\n",
       "      <td>Maria Durango</td>\n",
       "      <td>LOCAL</td>\n",
       "      <td>logistic_regression</td>\n",
       "      <td>mlops_tracking</td>\n",
       "    </tr>\n",
       "  </tbody>\n",
       "</table>\n",
       "</div>"
      ],
      "text/plain": [
       "                             run_id       experiment_id    status  \\\n",
       "0  1b7eba94b8d740e083d8dc4a081887d9  771184442123308775  FINISHED   \n",
       "1  ba66db332c2f479295bd5cd10bbf6b1c  771184442123308775    FAILED   \n",
       "2  09b9f509957447d0afa3df6a3df7ecb7  771184442123308775  FINISHED   \n",
       "\n",
       "                                        artifact_uri  \\\n",
       "0  file:///Users/mdurango/University/MLOps/02-Exp...   \n",
       "1  file:///Users/mdurango/University/MLOps/02-Exp...   \n",
       "2  file:///Users/mdurango/University/MLOps/02-Exp...   \n",
       "\n",
       "                        start_time                         end_time  \\\n",
       "0 2025-09-23 17:06:16.257000+00:00 2025-09-23 17:06:16.326000+00:00   \n",
       "1 2025-09-23 17:06:02.915000+00:00 2025-09-23 17:06:03.030000+00:00   \n",
       "2 2025-09-23 17:05:58.705000+00:00 2025-09-23 17:06:00.737000+00:00   \n",
       "\n",
       "   metrics.accuracy params.n_estimators params.random_state params.C  \\\n",
       "0          1.000000                 100                  42     None   \n",
       "1          1.000000                 100                  42     None   \n",
       "2          0.966667                None                  42      0.3   \n",
       "\n",
       "  tags.mlflow.user                            tags.mlflow.source.name  \\\n",
       "0         mdurango  /Users/mdurango/University/MLOps/.venv/lib/pyt...   \n",
       "1         mdurango  /Users/mdurango/University/MLOps/.venv/lib/pyt...   \n",
       "2         mdurango  /Users/mdurango/University/MLOps/.venv/lib/pyt...   \n",
       "\n",
       "   tags.mlflow.runName tags.developer tags.mlflow.source.type  \\\n",
       "0  unequaled-finch-200  Maria Durango                   LOCAL   \n",
       "1    melodic-chimp-247           None                   LOCAL   \n",
       "2      polite-bass-209  Maria Durango                   LOCAL   \n",
       "\n",
       "            tags.model     tags.module  \n",
       "0        random_forest  mlops_tracking  \n",
       "1                 None            None  \n",
       "2  logistic_regression  mlops_tracking  "
      ]
     },
     "execution_count": 26,
     "metadata": {},
     "output_type": "execute_result"
    }
   ],
   "source": [
    "mlflow.search_runs(experiment_ids=['771184442123308775'])"
   ]
  },
  {
   "cell_type": "code",
   "execution_count": 27,
   "metadata": {},
   "outputs": [
    {
     "data": {
      "text/html": [
       "<div>\n",
       "<style scoped>\n",
       "    .dataframe tbody tr th:only-of-type {\n",
       "        vertical-align: middle;\n",
       "    }\n",
       "\n",
       "    .dataframe tbody tr th {\n",
       "        vertical-align: top;\n",
       "    }\n",
       "\n",
       "    .dataframe thead th {\n",
       "        text-align: right;\n",
       "    }\n",
       "</style>\n",
       "<table border=\"1\" class=\"dataframe\">\n",
       "  <thead>\n",
       "    <tr style=\"text-align: right;\">\n",
       "      <th></th>\n",
       "      <th>run_id</th>\n",
       "      <th>experiment_id</th>\n",
       "      <th>status</th>\n",
       "      <th>artifact_uri</th>\n",
       "      <th>start_time</th>\n",
       "      <th>end_time</th>\n",
       "      <th>metrics.accuracy</th>\n",
       "      <th>params.n_estimators</th>\n",
       "      <th>params.random_state</th>\n",
       "      <th>params.C</th>\n",
       "      <th>tags.mlflow.user</th>\n",
       "      <th>tags.mlflow.source.name</th>\n",
       "      <th>tags.mlflow.runName</th>\n",
       "      <th>tags.developer</th>\n",
       "      <th>tags.mlflow.source.type</th>\n",
       "      <th>tags.model</th>\n",
       "      <th>tags.module</th>\n",
       "    </tr>\n",
       "  </thead>\n",
       "  <tbody>\n",
       "    <tr>\n",
       "      <th>0</th>\n",
       "      <td>1b7eba94b8d740e083d8dc4a081887d9</td>\n",
       "      <td>771184442123308775</td>\n",
       "      <td>FINISHED</td>\n",
       "      <td>file:///Users/mdurango/University/MLOps/02-Exp...</td>\n",
       "      <td>2025-09-23 17:06:16.257000+00:00</td>\n",
       "      <td>2025-09-23 17:06:16.326000+00:00</td>\n",
       "      <td>1.000000</td>\n",
       "      <td>100</td>\n",
       "      <td>42</td>\n",
       "      <td>None</td>\n",
       "      <td>mdurango</td>\n",
       "      <td>/Users/mdurango/University/MLOps/.venv/lib/pyt...</td>\n",
       "      <td>unequaled-finch-200</td>\n",
       "      <td>Maria Durango</td>\n",
       "      <td>LOCAL</td>\n",
       "      <td>random_forest</td>\n",
       "      <td>mlops_tracking</td>\n",
       "    </tr>\n",
       "    <tr>\n",
       "      <th>1</th>\n",
       "      <td>ba66db332c2f479295bd5cd10bbf6b1c</td>\n",
       "      <td>771184442123308775</td>\n",
       "      <td>FAILED</td>\n",
       "      <td>file:///Users/mdurango/University/MLOps/02-Exp...</td>\n",
       "      <td>2025-09-23 17:06:02.915000+00:00</td>\n",
       "      <td>2025-09-23 17:06:03.030000+00:00</td>\n",
       "      <td>1.000000</td>\n",
       "      <td>100</td>\n",
       "      <td>42</td>\n",
       "      <td>None</td>\n",
       "      <td>mdurango</td>\n",
       "      <td>/Users/mdurango/University/MLOps/.venv/lib/pyt...</td>\n",
       "      <td>melodic-chimp-247</td>\n",
       "      <td>None</td>\n",
       "      <td>LOCAL</td>\n",
       "      <td>None</td>\n",
       "      <td>None</td>\n",
       "    </tr>\n",
       "    <tr>\n",
       "      <th>2</th>\n",
       "      <td>09b9f509957447d0afa3df6a3df7ecb7</td>\n",
       "      <td>771184442123308775</td>\n",
       "      <td>FINISHED</td>\n",
       "      <td>file:///Users/mdurango/University/MLOps/02-Exp...</td>\n",
       "      <td>2025-09-23 17:05:58.705000+00:00</td>\n",
       "      <td>2025-09-23 17:06:00.737000+00:00</td>\n",
       "      <td>0.966667</td>\n",
       "      <td>None</td>\n",
       "      <td>42</td>\n",
       "      <td>0.3</td>\n",
       "      <td>mdurango</td>\n",
       "      <td>/Users/mdurango/University/MLOps/.venv/lib/pyt...</td>\n",
       "      <td>polite-bass-209</td>\n",
       "      <td>Maria Durango</td>\n",
       "      <td>LOCAL</td>\n",
       "      <td>logistic_regression</td>\n",
       "      <td>mlops_tracking</td>\n",
       "    </tr>\n",
       "  </tbody>\n",
       "</table>\n",
       "</div>"
      ],
      "text/plain": [
       "                             run_id       experiment_id    status  \\\n",
       "0  1b7eba94b8d740e083d8dc4a081887d9  771184442123308775  FINISHED   \n",
       "1  ba66db332c2f479295bd5cd10bbf6b1c  771184442123308775    FAILED   \n",
       "2  09b9f509957447d0afa3df6a3df7ecb7  771184442123308775  FINISHED   \n",
       "\n",
       "                                        artifact_uri  \\\n",
       "0  file:///Users/mdurango/University/MLOps/02-Exp...   \n",
       "1  file:///Users/mdurango/University/MLOps/02-Exp...   \n",
       "2  file:///Users/mdurango/University/MLOps/02-Exp...   \n",
       "\n",
       "                        start_time                         end_time  \\\n",
       "0 2025-09-23 17:06:16.257000+00:00 2025-09-23 17:06:16.326000+00:00   \n",
       "1 2025-09-23 17:06:02.915000+00:00 2025-09-23 17:06:03.030000+00:00   \n",
       "2 2025-09-23 17:05:58.705000+00:00 2025-09-23 17:06:00.737000+00:00   \n",
       "\n",
       "   metrics.accuracy params.n_estimators params.random_state params.C  \\\n",
       "0          1.000000                 100                  42     None   \n",
       "1          1.000000                 100                  42     None   \n",
       "2          0.966667                None                  42      0.3   \n",
       "\n",
       "  tags.mlflow.user                            tags.mlflow.source.name  \\\n",
       "0         mdurango  /Users/mdurango/University/MLOps/.venv/lib/pyt...   \n",
       "1         mdurango  /Users/mdurango/University/MLOps/.venv/lib/pyt...   \n",
       "2         mdurango  /Users/mdurango/University/MLOps/.venv/lib/pyt...   \n",
       "\n",
       "   tags.mlflow.runName tags.developer tags.mlflow.source.type  \\\n",
       "0  unequaled-finch-200  Maria Durango                   LOCAL   \n",
       "1    melodic-chimp-247           None                   LOCAL   \n",
       "2      polite-bass-209  Maria Durango                   LOCAL   \n",
       "\n",
       "            tags.model     tags.module  \n",
       "0        random_forest  mlops_tracking  \n",
       "1                 None            None  \n",
       "2  logistic_regression  mlops_tracking  "
      ]
     },
     "execution_count": 27,
     "metadata": {},
     "output_type": "execute_result"
    }
   ],
   "source": [
    "mlflow.search_runs(experiment_ids=['771184442123308775']).sort_values(by=\"metrics.accuracy\", ascending=False)"
   ]
  },
  {
   "cell_type": "markdown",
   "metadata": {},
   "source": [
    "### Interacción con el model registry"
   ]
  },
  {
   "cell_type": "markdown",
   "metadata": {},
   "source": [
    "Permite interactuar programáticamente con el tracking server y model registry."
   ]
  },
  {
   "cell_type": "code",
   "execution_count": 33,
   "metadata": {},
   "outputs": [],
   "source": [
    "from mlflow.tracking import MlflowClient\n",
    "\n",
    "\n",
    "client = MlflowClient()"
   ]
  },
  {
   "cell_type": "code",
   "execution_count": 34,
   "metadata": {},
   "outputs": [
    {
     "data": {
      "text/plain": [
       "[]"
      ]
     },
     "execution_count": 34,
     "metadata": {},
     "output_type": "execute_result"
    }
   ],
   "source": [
    "client.search_registered_models()"
   ]
  },
  {
   "cell_type": "code",
   "execution_count": 35,
   "metadata": {},
   "outputs": [],
   "source": [
    "from mlflow.exceptions import MlflowException\n",
    "\n",
    "try:\n",
    "    client.search_registered_models()\n",
    "except MlflowException:\n",
    "    print(\"It's not possible to access the model registry :(\")"
   ]
  }
 ],
 "metadata": {
  "kernelspec": {
   "display_name": "mlops udm",
   "language": "python",
   "name": "mlops-udm"
  },
  "language_info": {
   "codemirror_mode": {
    "name": "ipython",
    "version": 3
   },
   "file_extension": ".py",
   "mimetype": "text/x-python",
   "name": "python",
   "nbconvert_exporter": "python",
   "pygments_lexer": "ipython3",
   "version": "3.11.9"
  },
  "orig_nbformat": 4
 },
 "nbformat": 4,
 "nbformat_minor": 2
}
