{
 "cells": [
  {
   "cell_type": "markdown",
   "metadata": {},
   "source": [
    "# MLflow Basics\n",
    "\n",
    "This notebook provides a hands-on introduction to MLflow, a popular open-source platform for managing the machine learning lifecycle. We'll cover the basic concepts of MLflow and demonstrate how to use it to track experiments."
   ]
  },
  {
   "cell_type": "markdown",
   "metadata": {},
   "source": [
    "## Setting up the MLflow Tracking Server\n",
    "\n",
    "MLflow can be used with a local tracking server, which is simply a directory on your local filesystem, or with a remote tracking server. For this example, we'll use a local tracking server. The `train_with_basic_mlflow.py` script is configured to use a SQLite database (`mlflow.db`) in the root of the project directory."
   ]
  },
  {
   "cell_type": "markdown",
   "metadata": {},
   "source": [
    "## Running the Basic MLflow Script\n",
    "\n",
    "Let's start by running the `train_with_basic_mlflow.py` script. This script trains a simple RandomForestRegressor and logs the model's parameters and metrics to the MLflow tracking server."
   ]
  },
  {
   "cell_type": "code",
   "execution_count": null,
   "metadata": {},
   "outputs": [],
   "source": [
    "!uv run python ../scripts/train_with_basic_mlflow.py"
   ]
  },
  {
   "cell_type": "markdown",
   "metadata": {},
   "source": [
    "## The MLflow UI\n",
    "\n",
    "Now that we've run an experiment, we can view the results in the MLflow UI. To launch the UI, run the following command in your terminal:"
   ]
  },
  {
   "cell_type": "code",
   "execution_count": null,
   "metadata": {},
   "outputs": [],
   "source": [
    "!mlflow ui"
   ]
  },
  {
   "cell_type": "markdown",
   "metadata": {},
   "source": [
    "This will start a local web server, and you can access the MLflow UI by navigating to `http://127.0.0.1:5000` in your web browser.\n",
    "\n",
    "In the UI, you'll see:\n",
    "\n",
    "*   **Experiments:** A list of all the experiments you've run.\n",
    "*   **Runs:** Within each experiment, a list of all the runs.\n",
    "*   **Parameters:** The parameters for each run.\n",
    "*   **Metrics:** The metrics for each run.\n",
    "*   **Artifacts:** Any artifacts that were logged, such as the trained model."
   ]
  }
 ],
 "metadata": {
  "kernelspec": {
   "display_name": "Python 3",
   "language": "python",
   "name": "python3"
  },
  "language_info": {
   "codemirror_mode": {
    "name": "ipython",
    "version": 3
   },
   "file_extension": ".py",
   "mimetype": "text/x-python",
   "name": "python",
   "nbconvert_exporter": "python",
   "pygments_lexer": "ipython3",
   "version": "3.11.11"
  }
 },
 "nbformat": 4,
 "nbformat_minor": 4
}
