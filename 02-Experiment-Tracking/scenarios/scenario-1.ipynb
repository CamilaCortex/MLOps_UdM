{
 "cells": [
  {
   "cell_type": "markdown",
   "metadata": {},
   "source": [
    "## Escenario 1: Un cientifico de datos participando de una competición en kaggle\n",
    "\n",
    "MLflow setup:\n",
    "* Tracking server: no\n",
    "* Backend store: sistema de archivos local\n",
    "* Artifacts store: sistema de archivos local\n",
    "\n",
    "Usando MLFlow Ui podemos revisar los resultados"
   ]
  },
  {
   "cell_type": "code",
   "execution_count": 1,
   "metadata": {},
   "outputs": [],
   "source": [
    "import mlflow"
   ]
  },
  {
   "cell_type": "markdown",
   "metadata": {},
   "source": [
    "En este caso estamos usando el path actual para definir donde queremos guardar las ejecuciones"
   ]
  },
  {
   "cell_type": "code",
   "execution_count": 2,
   "metadata": {},
   "outputs": [
    {
     "name": "stdout",
     "output_type": "stream",
     "text": [
      "tracking URI: 'file:///Users/macano/Desktop/code_personal/MLOps_UdM/02-Experiment-Tracking/scenarios/mlruns'\n"
     ]
    }
   ],
   "source": [
    "print(f\"tracking URI: '{mlflow.get_tracking_uri()}'\")"
   ]
  },
  {
   "cell_type": "markdown",
   "metadata": {},
   "source": [
    "Define la ubicación donde se almacenarán los metadatos de los experimentos. En este caso, apunta al directorio mlruns dentro de la carpeta scenarios."
   ]
  },
  {
   "cell_type": "code",
   "execution_count": 3,
   "metadata": {},
   "outputs": [
    {
     "data": {
      "text/plain": [
       "[<Experiment: artifact_location='file:///Users/macano/Desktop/code_personal/MLOps_UdM/02-Experiment-Tracking/scenarios/mlruns/0', creation_time=1755745751751, experiment_id='0', last_update_time=1755745751751, lifecycle_stage='active', name='Default', tags={}>]"
      ]
     },
     "execution_count": 3,
     "metadata": {},
     "output_type": "execute_result"
    }
   ],
   "source": [
    "mlflow.search_experiments()"
   ]
  },
  {
   "cell_type": "markdown",
   "metadata": {},
   "source": [
    "### Creemos un experimento y logguemos la corrida"
   ]
  },
  {
   "cell_type": "markdown",
   "metadata": {},
   "source": [
    "Hagamos una prueba con un dataset de juguete, aca definimos siempre un experimento de mlflow de la siguiente manera:\n",
    "\n",
    "#### Definición del Experimento\n",
    "\n",
    "```python \n",
    "mlflow.set_experiment(\"my-experiment-1\")\n",
    "```\n",
    "\n",
    "Crea o selecciona un experimento llamado \"my-experiment-1\" donde se registrarán todas las ejecuciones relacionadas.\n",
    "\n",
    "#### Ejecución del Experimento\n",
    "\n",
    "```python\n",
    "with mlflow.start_run():                    \n",
    "    # Código del experimento\n",
    "```\n",
    "\n",
    "El contexto with mlflow.start_run() inicia automáticamente una nueva ejecución y la finaliza al salir del bloque.\n"
   ]
  },
  {
   "cell_type": "markdown",
   "metadata": {},
   "source": [
    "## Flujo del Experimento\n",
    "\n",
    "1. Carga de Datos\n",
    "\n",
    "- Utiliza el dataset de iris de scikit-learn como ejemplo.\n",
    "\n",
    "2. Definición de Parámetros: \n",
    "- C: Parámetro de regularización para LogisticRegression\n",
    "- random_state: Semilla para reproducibilidad\n",
    "\n",
    "- mlflow.log_params() registra estos parámetros para futura referencia\n",
    "\n",
    "3. Entrenamiento del Modelo \n",
    "\n",
    "- Entrena un modelo de regresión logística con los parámetros especificados.\n",
    "\n",
    "4. Evaluación y Logging de Métricas\n",
    "\n",
    "- Calcula predicciones en el conjunto de entrenamiento\n",
    "- Registra la métrica de precisión (accuracy) en MLflow\n",
    "\n",
    "5. Logging del Modelo\n",
    "\n",
    "- Guarda el modelo entrenado como un artifact, permitiendo su reutilización posterior."
   ]
  },
  {
   "cell_type": "code",
   "execution_count": 17,
   "metadata": {},
   "outputs": [
    {
     "name": "stderr",
     "output_type": "stream",
     "text": [
      "2025/08/20 22:21:04 WARNING mlflow.models.model: `artifact_path` is deprecated. Please use `name` instead.\n"
     ]
    },
    {
     "name": "stderr",
     "output_type": "stream",
     "text": [
      "2025/08/20 22:21:06 WARNING mlflow.utils.environment: Failed to resolve installed pip version. ``pip`` will be added to conda.yaml environment spec without a version specifier.\n",
      "\u001b[31m2025/08/20 22:21:06 WARNING mlflow.models.model: Model logged without a signature and input example. Please set `input_example` parameter when logging the model to auto infer the model signature.\u001b[0m\n"
     ]
    },
    {
     "name": "stdout",
     "output_type": "stream",
     "text": [
      "default artifacts URI: 'file:///Users/macano/Desktop/code_personal/MLOps_UdM/02-Experiment-Tracking/scenarios/mlruns/552618715103696137/0e7b2e5697784d5a82768712a0f5a49d/artifacts'\n"
     ]
    }
   ],
   "source": [
    "from sklearn.linear_model import LogisticRegression\n",
    "from sklearn.datasets import load_iris\n",
    "from sklearn.metrics import accuracy_score\n",
    "\n",
    "mlflow.set_experiment(\"my-experiment-1\")\n",
    "\n",
    "with mlflow.start_run():\n",
    "\n",
    "    X, y = load_iris(return_X_y=True)\n",
    "\n",
    "    params = {\"C\": 0.1, \"random_state\": 42}\n",
    "    mlflow.log_params(params)\n",
    "\n",
    "    lr = LogisticRegression(**params).fit(X, y)\n",
    "    y_pred = lr.predict(X)\n",
    "    mlflow.log_metric(\"accuracy\", accuracy_score(y, y_pred))\n",
    "\n",
    "    mlflow.sklearn.log_model(lr, artifact_path=\"models\")\n",
    "    print(f\"default artifacts URI: '{mlflow.get_artifact_uri()}'\")"
   ]
  },
  {
   "cell_type": "markdown",
   "metadata": {},
   "source": [
    "## Exploración de Resultados"
   ]
  },
  {
   "cell_type": "markdown",
   "metadata": {},
   "source": [
    "### Búsqueda de Experimentos\n",
    "\n",
    "Lista todos los experimentos disponibles en el tracking server.\n"
   ]
  },
  {
   "cell_type": "code",
   "execution_count": 5,
   "metadata": {},
   "outputs": [
    {
     "data": {
      "text/plain": [
       "[<Experiment: artifact_location='file:///Users/macano/Desktop/code_personal/MLOps_UdM/02-Experiment-Tracking/scenarios/mlruns/552618715103696137', creation_time=1755745784606, experiment_id='552618715103696137', last_update_time=1755745784606, lifecycle_stage='active', name='my-experiment-1', tags={}>,\n",
       " <Experiment: artifact_location='file:///Users/macano/Desktop/code_personal/MLOps_UdM/02-Experiment-Tracking/scenarios/mlruns/0', creation_time=1755745751751, experiment_id='0', last_update_time=1755745751751, lifecycle_stage='active', name='Default', tags={}>]"
      ]
     },
     "execution_count": 5,
     "metadata": {},
     "output_type": "execute_result"
    }
   ],
   "source": [
    "mlflow.search_experiments()"
   ]
  },
  {
   "cell_type": "markdown",
   "metadata": {},
   "source": [
    "Filtrando por texto: "
   ]
  },
  {
   "cell_type": "code",
   "execution_count": 18,
   "metadata": {},
   "outputs": [
    {
     "data": {
      "text/plain": [
       "[<Experiment: artifact_location='file:///Users/macano/Desktop/code_personal/MLOps_UdM/02-Experiment-Tracking/scenarios/mlruns/552618715103696137', creation_time=1755745784606, experiment_id='552618715103696137', last_update_time=1755745784606, lifecycle_stage='active', name='my-experiment-1', tags={}>]"
      ]
     },
     "execution_count": 18,
     "metadata": {},
     "output_type": "execute_result"
    }
   ],
   "source": [
    "mlflow.search_experiments(filter_string=\"name = 'my-experiment-1'\")"
   ]
  },
  {
   "cell_type": "markdown",
   "metadata": {},
   "source": [
    "Filtrando por ID"
   ]
  },
  {
   "cell_type": "code",
   "execution_count": 20,
   "metadata": {},
   "outputs": [
    {
     "data": {
      "text/html": [
       "<div>\n",
       "<style scoped>\n",
       "    .dataframe tbody tr th:only-of-type {\n",
       "        vertical-align: middle;\n",
       "    }\n",
       "\n",
       "    .dataframe tbody tr th {\n",
       "        vertical-align: top;\n",
       "    }\n",
       "\n",
       "    .dataframe thead th {\n",
       "        text-align: right;\n",
       "    }\n",
       "</style>\n",
       "<table border=\"1\" class=\"dataframe\">\n",
       "  <thead>\n",
       "    <tr style=\"text-align: right;\">\n",
       "      <th></th>\n",
       "      <th>run_id</th>\n",
       "      <th>experiment_id</th>\n",
       "      <th>status</th>\n",
       "      <th>artifact_uri</th>\n",
       "      <th>start_time</th>\n",
       "      <th>end_time</th>\n",
       "      <th>metrics.accuracy</th>\n",
       "      <th>params.C</th>\n",
       "      <th>params.random_state</th>\n",
       "      <th>tags.mlflow.runName</th>\n",
       "      <th>tags.mlflow.source.name</th>\n",
       "      <th>tags.mlflow.user</th>\n",
       "      <th>tags.mlflow.source.type</th>\n",
       "    </tr>\n",
       "  </thead>\n",
       "  <tbody>\n",
       "    <tr>\n",
       "      <th>0</th>\n",
       "      <td>0e7b2e5697784d5a82768712a0f5a49d</td>\n",
       "      <td>552618715103696137</td>\n",
       "      <td>FINISHED</td>\n",
       "      <td>file:///Users/macano/Desktop/code_personal/MLO...</td>\n",
       "      <td>2025-08-21 03:21:04.783000+00:00</td>\n",
       "      <td>2025-08-21 03:21:06.071000+00:00</td>\n",
       "      <td>0.96</td>\n",
       "      <td>0.1</td>\n",
       "      <td>42</td>\n",
       "      <td>selective-crab-621</td>\n",
       "      <td>/Users/macano/Desktop/code_personal/MLOps_UdM/...</td>\n",
       "      <td>macano</td>\n",
       "      <td>LOCAL</td>\n",
       "    </tr>\n",
       "    <tr>\n",
       "      <th>1</th>\n",
       "      <td>af10e7b4e907433991f1927dc2ba0e5e</td>\n",
       "      <td>552618715103696137</td>\n",
       "      <td>FINISHED</td>\n",
       "      <td>file:///Users/macano/Desktop/code_personal/MLO...</td>\n",
       "      <td>2025-08-21 03:09:44.680000+00:00</td>\n",
       "      <td>2025-08-21 03:09:46.166000+00:00</td>\n",
       "      <td>0.96</td>\n",
       "      <td>0.1</td>\n",
       "      <td>42</td>\n",
       "      <td>defiant-fly-919</td>\n",
       "      <td>/Users/macano/Desktop/code_personal/MLOps_UdM/...</td>\n",
       "      <td>macano</td>\n",
       "      <td>LOCAL</td>\n",
       "    </tr>\n",
       "  </tbody>\n",
       "</table>\n",
       "</div>"
      ],
      "text/plain": [
       "                             run_id       experiment_id    status  \\\n",
       "0  0e7b2e5697784d5a82768712a0f5a49d  552618715103696137  FINISHED   \n",
       "1  af10e7b4e907433991f1927dc2ba0e5e  552618715103696137  FINISHED   \n",
       "\n",
       "                                        artifact_uri  \\\n",
       "0  file:///Users/macano/Desktop/code_personal/MLO...   \n",
       "1  file:///Users/macano/Desktop/code_personal/MLO...   \n",
       "\n",
       "                        start_time                         end_time  \\\n",
       "0 2025-08-21 03:21:04.783000+00:00 2025-08-21 03:21:06.071000+00:00   \n",
       "1 2025-08-21 03:09:44.680000+00:00 2025-08-21 03:09:46.166000+00:00   \n",
       "\n",
       "   metrics.accuracy params.C params.random_state tags.mlflow.runName  \\\n",
       "0              0.96      0.1                  42  selective-crab-621   \n",
       "1              0.96      0.1                  42     defiant-fly-919   \n",
       "\n",
       "                             tags.mlflow.source.name tags.mlflow.user  \\\n",
       "0  /Users/macano/Desktop/code_personal/MLOps_UdM/...           macano   \n",
       "1  /Users/macano/Desktop/code_personal/MLOps_UdM/...           macano   \n",
       "\n",
       "  tags.mlflow.source.type  \n",
       "0                   LOCAL  \n",
       "1                   LOCAL  "
      ]
     },
     "execution_count": 20,
     "metadata": {},
     "output_type": "execute_result"
    }
   ],
   "source": [
    "mlflow.search_runs(experiment_ids=['552618715103696137'])"
   ]
  },
  {
   "cell_type": "markdown",
   "metadata": {},
   "source": [
    "### Interacción con el model registry"
   ]
  },
  {
   "cell_type": "markdown",
   "metadata": {},
   "source": [
    "Permite interactuar programáticamente con el tracking server y model registry."
   ]
  },
  {
   "cell_type": "code",
   "execution_count": 6,
   "metadata": {},
   "outputs": [],
   "source": [
    "from mlflow.tracking import MlflowClient\n",
    "\n",
    "\n",
    "client = MlflowClient()"
   ]
  },
  {
   "cell_type": "code",
   "execution_count": 7,
   "metadata": {},
   "outputs": [],
   "source": [
    "from mlflow.exceptions import MlflowException\n",
    "\n",
    "try:\n",
    "    client.search_registered_models()\n",
    "except MlflowException:\n",
    "    print(\"It's not possible to access the model registry :(\")"
   ]
  }
 ],
 "metadata": {
  "kernelspec": {
   "display_name": ".venv",
   "language": "python",
   "name": "python3"
  },
  "language_info": {
   "codemirror_mode": {
    "name": "ipython",
    "version": 3
   },
   "file_extension": ".py",
   "mimetype": "text/x-python",
   "name": "python",
   "nbconvert_exporter": "python",
   "pygments_lexer": "ipython3",
   "version": "3.11.11"
  },
  "orig_nbformat": 4
 },
 "nbformat": 4,
 "nbformat_minor": 2
}
