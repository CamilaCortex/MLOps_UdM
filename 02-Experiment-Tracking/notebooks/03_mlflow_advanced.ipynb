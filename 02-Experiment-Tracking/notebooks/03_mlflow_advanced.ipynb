{
 "cells": [
  {
   "cell_type": "markdown",
   "metadata": {},
   "source": [
    "# Advanced MLflow: Hyperparameter Optimization and Model Registration\n",
    "\n",
    "In this notebook, we'll explore some of the more advanced features of MLflow, including:\n",
    "\n",
    "*   **Hyperparameter Optimization:** Using Optuna to find the best hyperparameters for our model and logging the results to MLflow.\n",
    "*   **Model Registration:** Registering the best model in the MLflow Model Registry for versioning and deployment."
   ]
  },
  {
   "cell_type": "markdown",
   "metadata": {},
   "source": [
    "## Running the Hyperparameter Optimization Script\n",
    "\n",
    "The `train_with_full_mlflow.py` script uses Optuna to perform hyperparameter optimization. For each trial, it logs the parameters and the resulting RMSE to MLflow."
   ]
  },
  {
   "cell_type": "code",
   "execution_count": null,
   "metadata": {},
   "outputs": [],
   "source": [
    "!uv run python ../scripts/train_with_full_mlflow.py"
   ]
  },
  {
   "cell_type": "markdown",
   "metadata": {},
   "source": [
    "## Comparing Runs in the MLflow UI\n",
    "\n",
    "After running the script, you can go to the MLflow UI to compare the results of the different trials. You can sort the runs by RMSE to find the best set of hyperparameters.\n",
    "\n",
    "MLflow also provides a parallel coordinates plot, which is a great way to visualize the relationship between the hyperparameters and the metric."
   ]
  },
  {
   "cell_type": "markdown",
   "metadata": {},
   "source": [
    "## Model Registration\n",
    "\n",
    "Once you've identified the best model, you can register it in the MLflow Model Registry. This allows you to version your models and manage their lifecycle (e.g., staging, production, archived).\n",
    "\n",
    "To register a model, you can either do it through the MLflow UI or programmatically. The `train_with_full_mlflow.py` script can be easily extended to automatically register the best model after the hyperparameter optimization is complete."
   ]
  }
 ],
 "metadata": {
  "kernelspec": {
   "display_name": "Python 3",
   "language": "python",
   "name": "python3"
  },
  "language_info": {
   "codemirror_mode": {
    "name": "ipython",
    "version": 3
   },
   "file_extension": ".py",
   "mimetype": "text/x-python",
   "name": "python",
   "nbconvert_exporter": "python",
   "pygments_lexer": "ipython3",
   "version": "3.11.11"
  }
 },
 "nbformat": 4,
 "nbformat_minor": 4
}